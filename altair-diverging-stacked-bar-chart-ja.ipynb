{
 "cells": [
  {
   "cell_type": "markdown",
   "id": "9dce6978-eadf-40ae-ac7a-24dca510fd67",
   "metadata": {},
   "source": [
    "# Diverging Stacked Bar Chart を Altair で作る"
   ]
  },
  {
   "cell_type": "markdown",
   "id": "e19e7169-062a-4800-b66b-9d8cbfffa4d1",
   "metadata": {},
   "source": [
    "## ダミーデータの生成"
   ]
  },
  {
   "cell_type": "code",
   "execution_count": 1,
   "id": "48d7fd3f-8adb-4250-91d8-13c64bff349d",
   "metadata": {},
   "outputs": [],
   "source": [
    "import pandas as pd\n",
    "import numpy as np\n",
    "from numpy.random import default_rng\n",
    "import altair as alt"
   ]
  },
  {
   "cell_type": "code",
   "execution_count": 2,
   "id": "5a2bca11-6c86-4345-985e-6da2c39cb586",
   "metadata": {},
   "outputs": [],
   "source": [
    "# choices and mid value\n",
    "\n",
    "choices = ['反対', 'やや反対', 'どちらでもない', 'やや賛成', '賛成']\n",
    "mid_value = (len(choices)+1)/2\n",
    "if (len(choices)%2 != 0):\n",
    "    mid_value = int(mid_value)"
   ]
  },
  {
   "cell_type": "code",
   "execution_count": 3,
   "id": "e092b0ef-7218-4022-8b5b-2d3db6c83d82",
   "metadata": {},
   "outputs": [],
   "source": [
    "# generate dummy data\n",
    "\n",
    "def generate_dummy_data_per_group(n, mu, sigma, bins):\n",
    "    rng = default_rng()\n",
    "    values = rng.normal(mu, sigma, size=n)\n",
    "    values_digitized = np.digitize(values, bins=bins)\n",
    "    df = pd.DataFrame(pd.Series(values_digitized).rename('value'));\n",
    "    return df\n",
    "\n",
    "def generate_dummy_data(n_groups=5, choices=choices):\n",
    "    bins = np.linspace(0, 1, len(choices)+1)\n",
    "    bins[0] = -np.inf\n",
    "    bins[-1] = np.inf\n",
    "    \n",
    "    # generate data for each group and concat\n",
    "    rng = default_rng()\n",
    "    data = pd.DataFrame()\n",
    "    for i in range(5):\n",
    "        tmp = generate_dummy_data_per_group(n=int(rng.uniform(100,200)), mu=rng.normal(0.5, 0.2), sigma=0.5, bins=bins)\n",
    "        tmp['attr'] = i\n",
    "        data = pd.concat([data, tmp])\n",
    "    return data.reset_index(drop=True)\n",
    "\n",
    "def aggregate_dummy_data(data):\n",
    "    # aggregate and convert to proportion (optional)\n",
    "    data = data.reset_index(drop=True)\n",
    "    data_count = data.groupby(['attr', 'value']).size().rename('count')\n",
    "    data_proportion = pd.DataFrame(data_count.groupby(level=0).apply(lambda x: x / float(x.sum())).rename('proportion')).reset_index()\n",
    "    return data_proportion\n",
    "\n",
    "data_nonagg = generate_dummy_data()\n",
    "data = aggregate_dummy_data(data_nonagg).rename({'proportion':'x'}, axis=1)"
   ]
  },
  {
   "cell_type": "markdown",
   "id": "526559ca-e8d9-4317-a2bf-74563be599ae",
   "metadata": {},
   "source": [
    "# プロット"
   ]
  },
  {
   "cell_type": "markdown",
   "id": "5eef825d-6e79-4b2c-86c4-4d76ae5b0883",
   "metadata": {},
   "source": [
    "## 準備：データを選択肢の正／負／中間に分割"
   ]
  },
  {
   "cell_type": "code",
   "execution_count": 4,
   "id": "0cdb4469-f604-4d3f-95c2-df441555dcef",
   "metadata": {},
   "outputs": [],
   "source": [
    "pos = data[data['value'] > mid_value].copy()\n",
    "neg = data[data['value'] < mid_value].copy()\n",
    "mid = data[data['value'] == mid_value].copy()\n",
    "mid_half = mid.copy()\n",
    "mid_half['x'] = mid_half['x'] * .5"
   ]
  },
  {
   "cell_type": "code",
   "execution_count": 5,
   "id": "93e8b06d-10f6-49c1-9c0c-bd2b211b0a2f",
   "metadata": {},
   "outputs": [],
   "source": [
    "def to_cumsum_interval(df, negative=False, strong_first=False):\n",
    "    tmp_cs = df.set_index(\n",
    "        ['attr', 'value']\n",
    "    ).sort_index(\n",
    "        ascending = negative != (not strong_first) #xor\n",
    "    ).groupby(level=0).cumsum()\n",
    "    tmp_cs_x2 = tmp_cs.groupby(level=0).shift().rename({'x':'x2'}, axis=1).fillna(0)\n",
    "    result = tmp_cs.join(tmp_cs_x2).reset_index()\n",
    "    if(negative):\n",
    "        result['x'] *= -1\n",
    "        result['x2'] *= -1\n",
    "    return result"
   ]
  },
  {
   "cell_type": "markdown",
   "id": "b4026449-9e27-4887-b730-b6543d84abf4",
   "metadata": {},
   "source": [
    "## 1. よくある diverging stacked bar chart"
   ]
  },
  {
   "cell_type": "code",
   "execution_count": 6,
   "id": "475e13db-b220-4fc1-98c4-8ce70405471f",
   "metadata": {},
   "outputs": [],
   "source": [
    "pos_i = to_cumsum_interval(pd.concat([pos, mid_half]))\n",
    "neg_i = to_cumsum_interval(pd.concat([neg, mid_half]), negative=True)\n",
    "alt_data = pd.concat([pos_i, neg_i])\n",
    "alt_data['value_label'] = alt_data['value'].apply(lambda x : choices[x-1])"
   ]
  },
  {
   "cell_type": "code",
   "execution_count": 7,
   "id": "91394792-58fa-457f-95b5-c8105ba3b469",
   "metadata": {},
   "outputs": [
    {
     "data": {
      "text/html": [
       "\n",
       "<div id=\"altair-viz-170c955ad59240908bfaf072d24a9eca\"></div>\n",
       "<script type=\"text/javascript\">\n",
       "  (function(spec, embedOpt){\n",
       "    let outputDiv = document.currentScript.previousElementSibling;\n",
       "    if (outputDiv.id !== \"altair-viz-170c955ad59240908bfaf072d24a9eca\") {\n",
       "      outputDiv = document.getElementById(\"altair-viz-170c955ad59240908bfaf072d24a9eca\");\n",
       "    }\n",
       "    const paths = {\n",
       "      \"vega\": \"https://cdn.jsdelivr.net/npm//vega@5?noext\",\n",
       "      \"vega-lib\": \"https://cdn.jsdelivr.net/npm//vega-lib?noext\",\n",
       "      \"vega-lite\": \"https://cdn.jsdelivr.net/npm//vega-lite@4.8.1?noext\",\n",
       "      \"vega-embed\": \"https://cdn.jsdelivr.net/npm//vega-embed@6?noext\",\n",
       "    };\n",
       "\n",
       "    function loadScript(lib) {\n",
       "      return new Promise(function(resolve, reject) {\n",
       "        var s = document.createElement('script');\n",
       "        s.src = paths[lib];\n",
       "        s.async = true;\n",
       "        s.onload = () => resolve(paths[lib]);\n",
       "        s.onerror = () => reject(`Error loading script: ${paths[lib]}`);\n",
       "        document.getElementsByTagName(\"head\")[0].appendChild(s);\n",
       "      });\n",
       "    }\n",
       "\n",
       "    function showError(err) {\n",
       "      outputDiv.innerHTML = `<div class=\"error\" style=\"color:red;\">${err}</div>`;\n",
       "      throw err;\n",
       "    }\n",
       "\n",
       "    function displayChart(vegaEmbed) {\n",
       "      vegaEmbed(outputDiv, spec, embedOpt)\n",
       "        .catch(err => showError(`Javascript Error: ${err.message}<br>This usually means there's a typo in your chart specification. See the javascript console for the full traceback.`));\n",
       "    }\n",
       "\n",
       "    if(typeof define === \"function\" && define.amd) {\n",
       "      requirejs.config({paths});\n",
       "      require([\"vega-embed\"], displayChart, err => showError(`Error loading script: ${err.message}`));\n",
       "    } else if (typeof vegaEmbed === \"function\") {\n",
       "      displayChart(vegaEmbed);\n",
       "    } else {\n",
       "      loadScript(\"vega\")\n",
       "        .then(() => loadScript(\"vega-lite\"))\n",
       "        .then(() => loadScript(\"vega-embed\"))\n",
       "        .catch(showError)\n",
       "        .then(() => displayChart(vegaEmbed));\n",
       "    }\n",
       "  })({\"config\": {\"view\": {\"continuousWidth\": 400, \"continuousHeight\": 300}}, \"data\": {\"name\": \"data-5309e43a832c3e19e6db0461b1fce2b7\"}, \"mark\": \"bar\", \"encoding\": {\"color\": {\"type\": \"nominal\", \"field\": \"value_label\", \"scale\": {\"domain\": [\"\\u53cd\\u5bfe\", \"\\u3084\\u3084\\u53cd\\u5bfe\", \"\\u3069\\u3061\\u3089\\u3067\\u3082\\u306a\\u3044\", \"\\u3084\\u3084\\u8cdb\\u6210\", \"\\u8cdb\\u6210\"], \"scheme\": \"redblue\"}}, \"x\": {\"type\": \"quantitative\", \"axis\": {\"format\": \"%\", \"title\": \"Percentage\"}, \"field\": \"x\"}, \"x2\": {\"field\": \"x2\"}, \"y\": {\"type\": \"ordinal\", \"field\": \"attr\"}}, \"$schema\": \"https://vega.github.io/schema/vega-lite/v4.8.1.json\", \"datasets\": {\"data-5309e43a832c3e19e6db0461b1fce2b7\": [{\"attr\": 0, \"value\": 3, \"x\": 0.05555555555555555, \"x2\": 0.0, \"value_label\": \"\\u3069\\u3061\\u3089\\u3067\\u3082\\u306a\\u3044\"}, {\"attr\": 0, \"value\": 4, \"x\": 0.19753086419753085, \"x2\": 0.05555555555555555, \"value_label\": \"\\u3084\\u3084\\u8cdb\\u6210\"}, {\"attr\": 0, \"value\": 5, \"x\": 0.4444444444444444, \"x2\": 0.19753086419753085, \"value_label\": \"\\u8cdb\\u6210\"}, {\"attr\": 1, \"value\": 3, \"x\": 0.06040268456375839, \"x2\": 0.0, \"value_label\": \"\\u3069\\u3061\\u3089\\u3067\\u3082\\u306a\\u3044\"}, {\"attr\": 1, \"value\": 4, \"x\": 0.2080536912751678, \"x2\": 0.06040268456375839, \"value_label\": \"\\u3084\\u3084\\u8cdb\\u6210\"}, {\"attr\": 1, \"value\": 5, \"x\": 0.5033557046979866, \"x2\": 0.2080536912751678, \"value_label\": \"\\u8cdb\\u6210\"}, {\"attr\": 2, \"value\": 3, \"x\": 0.0784313725490196, \"x2\": 0.0, \"value_label\": \"\\u3069\\u3061\\u3089\\u3067\\u3082\\u306a\\u3044\"}, {\"attr\": 2, \"value\": 4, \"x\": 0.22875816993464052, \"x2\": 0.0784313725490196, \"value_label\": \"\\u3084\\u3084\\u8cdb\\u6210\"}, {\"attr\": 2, \"value\": 5, \"x\": 0.5163398692810457, \"x2\": 0.22875816993464052, \"value_label\": \"\\u8cdb\\u6210\"}, {\"attr\": 3, \"value\": 3, \"x\": 0.0752212389380531, \"x2\": 0.0, \"value_label\": \"\\u3069\\u3061\\u3089\\u3067\\u3082\\u306a\\u3044\"}, {\"attr\": 3, \"value\": 4, \"x\": 0.20796460176991152, \"x2\": 0.0752212389380531, \"value_label\": \"\\u3084\\u3084\\u8cdb\\u6210\"}, {\"attr\": 3, \"value\": 5, \"x\": 0.5973451327433629, \"x2\": 0.20796460176991152, \"value_label\": \"\\u8cdb\\u6210\"}, {\"attr\": 4, \"value\": 3, \"x\": 0.08, \"x2\": 0.0, \"value_label\": \"\\u3069\\u3061\\u3089\\u3067\\u3082\\u306a\\u3044\"}, {\"attr\": 4, \"value\": 4, \"x\": 0.2, \"x2\": 0.08, \"value_label\": \"\\u3084\\u3084\\u8cdb\\u6210\"}, {\"attr\": 4, \"value\": 5, \"x\": 0.44, \"x2\": 0.2, \"value_label\": \"\\u8cdb\\u6210\"}, {\"attr\": 4, \"value\": 3, \"x\": -0.08, \"x2\": -0.0, \"value_label\": \"\\u3069\\u3061\\u3089\\u3067\\u3082\\u306a\\u3044\"}, {\"attr\": 4, \"value\": 2, \"x\": -0.24, \"x2\": -0.08, \"value_label\": \"\\u3084\\u3084\\u53cd\\u5bfe\"}, {\"attr\": 4, \"value\": 1, \"x\": -0.56, \"x2\": -0.24, \"value_label\": \"\\u53cd\\u5bfe\"}, {\"attr\": 3, \"value\": 3, \"x\": -0.0752212389380531, \"x2\": -0.0, \"value_label\": \"\\u3069\\u3061\\u3089\\u3067\\u3082\\u306a\\u3044\"}, {\"attr\": 3, \"value\": 2, \"x\": -0.18141592920353983, \"x2\": -0.0752212389380531, \"value_label\": \"\\u3084\\u3084\\u53cd\\u5bfe\"}, {\"attr\": 3, \"value\": 1, \"x\": -0.4026548672566372, \"x2\": -0.18141592920353983, \"value_label\": \"\\u53cd\\u5bfe\"}, {\"attr\": 2, \"value\": 3, \"x\": -0.0784313725490196, \"x2\": -0.0, \"value_label\": \"\\u3069\\u3061\\u3089\\u3067\\u3082\\u306a\\u3044\"}, {\"attr\": 2, \"value\": 2, \"x\": -0.2549019607843137, \"x2\": -0.0784313725490196, \"value_label\": \"\\u3084\\u3084\\u53cd\\u5bfe\"}, {\"attr\": 2, \"value\": 1, \"x\": -0.48366013071895425, \"x2\": -0.2549019607843137, \"value_label\": \"\\u53cd\\u5bfe\"}, {\"attr\": 1, \"value\": 3, \"x\": -0.06040268456375839, \"x2\": -0.0, \"value_label\": \"\\u3069\\u3061\\u3089\\u3067\\u3082\\u306a\\u3044\"}, {\"attr\": 1, \"value\": 2, \"x\": -0.20134228187919462, \"x2\": -0.06040268456375839, \"value_label\": \"\\u3084\\u3084\\u53cd\\u5bfe\"}, {\"attr\": 1, \"value\": 1, \"x\": -0.4966442953020134, \"x2\": -0.20134228187919462, \"value_label\": \"\\u53cd\\u5bfe\"}, {\"attr\": 0, \"value\": 3, \"x\": -0.05555555555555555, \"x2\": -0.0, \"value_label\": \"\\u3069\\u3061\\u3089\\u3067\\u3082\\u306a\\u3044\"}, {\"attr\": 0, \"value\": 2, \"x\": -0.21604938271604937, \"x2\": -0.05555555555555555, \"value_label\": \"\\u3084\\u3084\\u53cd\\u5bfe\"}, {\"attr\": 0, \"value\": 1, \"x\": -0.5555555555555556, \"x2\": -0.21604938271604937, \"value_label\": \"\\u53cd\\u5bfe\"}]}}, {\"mode\": \"vega-lite\"});\n",
       "</script>"
      ],
      "text/plain": [
       "alt.Chart(...)"
      ]
     },
     "execution_count": 7,
     "metadata": {},
     "output_type": "execute_result"
    }
   ],
   "source": [
    "diverging_chart = alt.Chart(alt_data).mark_bar().encode(\n",
    "    x = alt.X(\n",
    "        'x',\n",
    "        axis = alt.Axis(\n",
    "            title = 'Percentage',\n",
    "            format = '%',\n",
    "        )\n",
    "    ),\n",
    "    x2 = 'x2',\n",
    "    y = 'attr:O',\n",
    "    color = alt.Color(\n",
    "        'value_label',\n",
    "        scale=alt.Scale(\n",
    "            domain=choices,\n",
    "            scheme='redblue',\n",
    "        )\n",
    "    ),\n",
    ")\n",
    "\n",
    "diverging_chart"
   ]
  },
  {
   "cell_type": "markdown",
   "id": "c48991c1-c1f0-4270-a458-5a97e68cf9e7",
   "metadata": {},
   "source": [
    "## 2. 強い意見を中央に集めたプロット"
   ]
  },
  {
   "cell_type": "code",
   "execution_count": 8,
   "id": "9bb78c17-6a51-40f0-8fc2-d4e4dd579b88",
   "metadata": {
    "tags": []
   },
   "outputs": [],
   "source": [
    "pos_i = to_cumsum_interval(pd.concat([pos, mid_half]), strong_first=True)\n",
    "neg_i = to_cumsum_interval(pd.concat([neg, mid_half]), negative=True, strong_first=True)\n",
    "alt_data = pd.concat([pos_i, neg_i])\n",
    "alt_data['value_label'] = alt_data['value'].apply(lambda x : choices[x-1])"
   ]
  },
  {
   "cell_type": "code",
   "execution_count": 9,
   "id": "a4ad2505-9a70-4b91-b8e7-46436dcc50a9",
   "metadata": {
    "tags": []
   },
   "outputs": [
    {
     "data": {
      "text/html": [
       "\n",
       "<div id=\"altair-viz-73f129f6b3a14c1b8c9546f03d8ea11b\"></div>\n",
       "<script type=\"text/javascript\">\n",
       "  (function(spec, embedOpt){\n",
       "    let outputDiv = document.currentScript.previousElementSibling;\n",
       "    if (outputDiv.id !== \"altair-viz-73f129f6b3a14c1b8c9546f03d8ea11b\") {\n",
       "      outputDiv = document.getElementById(\"altair-viz-73f129f6b3a14c1b8c9546f03d8ea11b\");\n",
       "    }\n",
       "    const paths = {\n",
       "      \"vega\": \"https://cdn.jsdelivr.net/npm//vega@5?noext\",\n",
       "      \"vega-lib\": \"https://cdn.jsdelivr.net/npm//vega-lib?noext\",\n",
       "      \"vega-lite\": \"https://cdn.jsdelivr.net/npm//vega-lite@4.8.1?noext\",\n",
       "      \"vega-embed\": \"https://cdn.jsdelivr.net/npm//vega-embed@6?noext\",\n",
       "    };\n",
       "\n",
       "    function loadScript(lib) {\n",
       "      return new Promise(function(resolve, reject) {\n",
       "        var s = document.createElement('script');\n",
       "        s.src = paths[lib];\n",
       "        s.async = true;\n",
       "        s.onload = () => resolve(paths[lib]);\n",
       "        s.onerror = () => reject(`Error loading script: ${paths[lib]}`);\n",
       "        document.getElementsByTagName(\"head\")[0].appendChild(s);\n",
       "      });\n",
       "    }\n",
       "\n",
       "    function showError(err) {\n",
       "      outputDiv.innerHTML = `<div class=\"error\" style=\"color:red;\">${err}</div>`;\n",
       "      throw err;\n",
       "    }\n",
       "\n",
       "    function displayChart(vegaEmbed) {\n",
       "      vegaEmbed(outputDiv, spec, embedOpt)\n",
       "        .catch(err => showError(`Javascript Error: ${err.message}<br>This usually means there's a typo in your chart specification. See the javascript console for the full traceback.`));\n",
       "    }\n",
       "\n",
       "    if(typeof define === \"function\" && define.amd) {\n",
       "      requirejs.config({paths});\n",
       "      require([\"vega-embed\"], displayChart, err => showError(`Error loading script: ${err.message}`));\n",
       "    } else if (typeof vegaEmbed === \"function\") {\n",
       "      displayChart(vegaEmbed);\n",
       "    } else {\n",
       "      loadScript(\"vega\")\n",
       "        .then(() => loadScript(\"vega-lite\"))\n",
       "        .then(() => loadScript(\"vega-embed\"))\n",
       "        .catch(showError)\n",
       "        .then(() => displayChart(vegaEmbed));\n",
       "    }\n",
       "  })({\"config\": {\"view\": {\"continuousWidth\": 400, \"continuousHeight\": 300}}, \"data\": {\"name\": \"data-570208d14fc1ab522e8079a10a4f49de\"}, \"mark\": \"bar\", \"encoding\": {\"color\": {\"type\": \"nominal\", \"field\": \"value_label\", \"scale\": {\"domain\": [\"\\u53cd\\u5bfe\", \"\\u3084\\u3084\\u53cd\\u5bfe\", \"\\u3069\\u3061\\u3089\\u3067\\u3082\\u306a\\u3044\", \"\\u3084\\u3084\\u8cdb\\u6210\", \"\\u8cdb\\u6210\"], \"scheme\": \"redblue\"}}, \"x\": {\"type\": \"quantitative\", \"axis\": {\"format\": \"%\", \"title\": \"Percentage\"}, \"field\": \"x\"}, \"x2\": {\"field\": \"x2\"}, \"y\": {\"type\": \"ordinal\", \"field\": \"attr\"}}, \"$schema\": \"https://vega.github.io/schema/vega-lite/v4.8.1.json\", \"datasets\": {\"data-570208d14fc1ab522e8079a10a4f49de\": [{\"attr\": 4, \"value\": 5, \"x\": 0.24, \"x2\": 0.0, \"value_label\": \"\\u8cdb\\u6210\"}, {\"attr\": 4, \"value\": 4, \"x\": 0.36, \"x2\": 0.24, \"value_label\": \"\\u3084\\u3084\\u8cdb\\u6210\"}, {\"attr\": 4, \"value\": 3, \"x\": 0.44, \"x2\": 0.36, \"value_label\": \"\\u3069\\u3061\\u3089\\u3067\\u3082\\u306a\\u3044\"}, {\"attr\": 3, \"value\": 5, \"x\": 0.3893805309734513, \"x2\": 0.0, \"value_label\": \"\\u8cdb\\u6210\"}, {\"attr\": 3, \"value\": 4, \"x\": 0.5221238938053098, \"x2\": 0.3893805309734513, \"value_label\": \"\\u3084\\u3084\\u8cdb\\u6210\"}, {\"attr\": 3, \"value\": 3, \"x\": 0.5973451327433629, \"x2\": 0.5221238938053098, \"value_label\": \"\\u3069\\u3061\\u3089\\u3067\\u3082\\u306a\\u3044\"}, {\"attr\": 2, \"value\": 5, \"x\": 0.2875816993464052, \"x2\": 0.0, \"value_label\": \"\\u8cdb\\u6210\"}, {\"attr\": 2, \"value\": 4, \"x\": 0.43790849673202614, \"x2\": 0.2875816993464052, \"value_label\": \"\\u3084\\u3084\\u8cdb\\u6210\"}, {\"attr\": 2, \"value\": 3, \"x\": 0.5163398692810457, \"x2\": 0.43790849673202614, \"value_label\": \"\\u3069\\u3061\\u3089\\u3067\\u3082\\u306a\\u3044\"}, {\"attr\": 1, \"value\": 5, \"x\": 0.2953020134228188, \"x2\": 0.0, \"value_label\": \"\\u8cdb\\u6210\"}, {\"attr\": 1, \"value\": 4, \"x\": 0.4429530201342282, \"x2\": 0.2953020134228188, \"value_label\": \"\\u3084\\u3084\\u8cdb\\u6210\"}, {\"attr\": 1, \"value\": 3, \"x\": 0.5033557046979866, \"x2\": 0.4429530201342282, \"value_label\": \"\\u3069\\u3061\\u3089\\u3067\\u3082\\u306a\\u3044\"}, {\"attr\": 0, \"value\": 5, \"x\": 0.24691358024691357, \"x2\": 0.0, \"value_label\": \"\\u8cdb\\u6210\"}, {\"attr\": 0, \"value\": 4, \"x\": 0.38888888888888884, \"x2\": 0.24691358024691357, \"value_label\": \"\\u3084\\u3084\\u8cdb\\u6210\"}, {\"attr\": 0, \"value\": 3, \"x\": 0.4444444444444444, \"x2\": 0.38888888888888884, \"value_label\": \"\\u3069\\u3061\\u3089\\u3067\\u3082\\u306a\\u3044\"}, {\"attr\": 0, \"value\": 1, \"x\": -0.3395061728395062, \"x2\": -0.0, \"value_label\": \"\\u53cd\\u5bfe\"}, {\"attr\": 0, \"value\": 2, \"x\": -0.5, \"x2\": -0.3395061728395062, \"value_label\": \"\\u3084\\u3084\\u53cd\\u5bfe\"}, {\"attr\": 0, \"value\": 3, \"x\": -0.5555555555555556, \"x2\": -0.5, \"value_label\": \"\\u3069\\u3061\\u3089\\u3067\\u3082\\u306a\\u3044\"}, {\"attr\": 1, \"value\": 1, \"x\": -0.2953020134228188, \"x2\": -0.0, \"value_label\": \"\\u53cd\\u5bfe\"}, {\"attr\": 1, \"value\": 2, \"x\": -0.43624161073825507, \"x2\": -0.2953020134228188, \"value_label\": \"\\u3084\\u3084\\u53cd\\u5bfe\"}, {\"attr\": 1, \"value\": 3, \"x\": -0.4966442953020134, \"x2\": -0.43624161073825507, \"value_label\": \"\\u3069\\u3061\\u3089\\u3067\\u3082\\u306a\\u3044\"}, {\"attr\": 2, \"value\": 1, \"x\": -0.22875816993464052, \"x2\": -0.0, \"value_label\": \"\\u53cd\\u5bfe\"}, {\"attr\": 2, \"value\": 2, \"x\": -0.40522875816993464, \"x2\": -0.22875816993464052, \"value_label\": \"\\u3084\\u3084\\u53cd\\u5bfe\"}, {\"attr\": 2, \"value\": 3, \"x\": -0.48366013071895425, \"x2\": -0.40522875816993464, \"value_label\": \"\\u3069\\u3061\\u3089\\u3067\\u3082\\u306a\\u3044\"}, {\"attr\": 3, \"value\": 1, \"x\": -0.22123893805309736, \"x2\": -0.0, \"value_label\": \"\\u53cd\\u5bfe\"}, {\"attr\": 3, \"value\": 2, \"x\": -0.3274336283185841, \"x2\": -0.22123893805309736, \"value_label\": \"\\u3084\\u3084\\u53cd\\u5bfe\"}, {\"attr\": 3, \"value\": 3, \"x\": -0.4026548672566372, \"x2\": -0.3274336283185841, \"value_label\": \"\\u3069\\u3061\\u3089\\u3067\\u3082\\u306a\\u3044\"}, {\"attr\": 4, \"value\": 1, \"x\": -0.32, \"x2\": -0.0, \"value_label\": \"\\u53cd\\u5bfe\"}, {\"attr\": 4, \"value\": 2, \"x\": -0.48, \"x2\": -0.32, \"value_label\": \"\\u3084\\u3084\\u53cd\\u5bfe\"}, {\"attr\": 4, \"value\": 3, \"x\": -0.56, \"x2\": -0.48, \"value_label\": \"\\u3069\\u3061\\u3089\\u3067\\u3082\\u306a\\u3044\"}]}}, {\"mode\": \"vega-lite\"});\n",
       "</script>"
      ],
      "text/plain": [
       "alt.Chart(...)"
      ]
     },
     "execution_count": 9,
     "metadata": {},
     "output_type": "execute_result"
    }
   ],
   "source": [
    "alt.Chart(alt_data).mark_bar().encode(\n",
    "    x = alt.X(\n",
    "        'x',\n",
    "        axis = alt.Axis(\n",
    "            title = 'Percentage',\n",
    "            format = '%',\n",
    "        )\n",
    "    ),\n",
    "    x2 = 'x2',\n",
    "    y = 'attr:O',\n",
    "    color = alt.Color(\n",
    "        'value_label',\n",
    "        scale=alt.Scale(\n",
    "            domain=choices,\n",
    "            scheme='redblue',\n",
    "        )\n",
    "    ),\n",
    ")"
   ]
  },
  {
   "cell_type": "markdown",
   "id": "51055153-538c-4c64-87c0-fa960bc3dd4d",
   "metadata": {},
   "source": [
    "## 3. 中間の選択肢を分離したプロット"
   ]
  },
  {
   "cell_type": "code",
   "execution_count": 10,
   "id": "1f4c4e3c-32cc-47d7-8f10-445b78268aba",
   "metadata": {
    "tags": []
   },
   "outputs": [],
   "source": [
    "pos_i = to_cumsum_interval(pos, strong_first=True)\n",
    "neg_i = to_cumsum_interval(neg, negative=True, strong_first=True)\n",
    "mid_i = to_cumsum_interval(mid)\n",
    "alt_data = pd.concat([pos_i, neg_i])\n",
    "alt_data['value_label'] = alt_data['value'].apply(lambda x : choices[x-1])\n",
    "mid_i['value_label'] = mid_i['value'].apply(lambda x : choices[x-1])"
   ]
  },
  {
   "cell_type": "code",
   "execution_count": 11,
   "id": "74c0b086-8aec-498b-b632-81dd69e9f17b",
   "metadata": {
    "tags": []
   },
   "outputs": [
    {
     "data": {
      "text/html": [
       "\n",
       "<div id=\"altair-viz-132b8ce77dba4fd2af65d2c6cb47d37e\"></div>\n",
       "<script type=\"text/javascript\">\n",
       "  (function(spec, embedOpt){\n",
       "    let outputDiv = document.currentScript.previousElementSibling;\n",
       "    if (outputDiv.id !== \"altair-viz-132b8ce77dba4fd2af65d2c6cb47d37e\") {\n",
       "      outputDiv = document.getElementById(\"altair-viz-132b8ce77dba4fd2af65d2c6cb47d37e\");\n",
       "    }\n",
       "    const paths = {\n",
       "      \"vega\": \"https://cdn.jsdelivr.net/npm//vega@5?noext\",\n",
       "      \"vega-lib\": \"https://cdn.jsdelivr.net/npm//vega-lib?noext\",\n",
       "      \"vega-lite\": \"https://cdn.jsdelivr.net/npm//vega-lite@4.8.1?noext\",\n",
       "      \"vega-embed\": \"https://cdn.jsdelivr.net/npm//vega-embed@6?noext\",\n",
       "    };\n",
       "\n",
       "    function loadScript(lib) {\n",
       "      return new Promise(function(resolve, reject) {\n",
       "        var s = document.createElement('script');\n",
       "        s.src = paths[lib];\n",
       "        s.async = true;\n",
       "        s.onload = () => resolve(paths[lib]);\n",
       "        s.onerror = () => reject(`Error loading script: ${paths[lib]}`);\n",
       "        document.getElementsByTagName(\"head\")[0].appendChild(s);\n",
       "      });\n",
       "    }\n",
       "\n",
       "    function showError(err) {\n",
       "      outputDiv.innerHTML = `<div class=\"error\" style=\"color:red;\">${err}</div>`;\n",
       "      throw err;\n",
       "    }\n",
       "\n",
       "    function displayChart(vegaEmbed) {\n",
       "      vegaEmbed(outputDiv, spec, embedOpt)\n",
       "        .catch(err => showError(`Javascript Error: ${err.message}<br>This usually means there's a typo in your chart specification. See the javascript console for the full traceback.`));\n",
       "    }\n",
       "\n",
       "    if(typeof define === \"function\" && define.amd) {\n",
       "      requirejs.config({paths});\n",
       "      require([\"vega-embed\"], displayChart, err => showError(`Error loading script: ${err.message}`));\n",
       "    } else if (typeof vegaEmbed === \"function\") {\n",
       "      displayChart(vegaEmbed);\n",
       "    } else {\n",
       "      loadScript(\"vega\")\n",
       "        .then(() => loadScript(\"vega-lite\"))\n",
       "        .then(() => loadScript(\"vega-embed\"))\n",
       "        .catch(showError)\n",
       "        .then(() => displayChart(vegaEmbed));\n",
       "    }\n",
       "  })({\"config\": {\"view\": {\"continuousWidth\": 400, \"continuousHeight\": 300}, \"concat\": {\"spacing\": 0}}, \"hconcat\": [{\"data\": {\"name\": \"data-387efe684d88dc5da36c8c7a839493c2\"}, \"mark\": \"bar\", \"encoding\": {\"color\": {\"type\": \"nominal\", \"field\": \"value_label\", \"scale\": {\"domain\": [\"\\u53cd\\u5bfe\", \"\\u3084\\u3084\\u53cd\\u5bfe\", \"\\u3069\\u3061\\u3089\\u3067\\u3082\\u306a\\u3044\", \"\\u3084\\u3084\\u8cdb\\u6210\", \"\\u8cdb\\u6210\"], \"scheme\": \"redblue\"}}, \"x\": {\"type\": \"quantitative\", \"axis\": {\"format\": \"%\", \"title\": \"Percentage\"}, \"field\": \"x\"}, \"x2\": {\"field\": \"x2\"}, \"y\": {\"type\": \"ordinal\", \"field\": \"attr\"}}, \"width\": 420}, {\"data\": {\"name\": \"data-7d98ef067e9b9a421d4941ffe2f7cd18\"}, \"mark\": \"bar\", \"encoding\": {\"color\": {\"type\": \"nominal\", \"field\": \"value_label\", \"scale\": {\"domain\": [\"\\u53cd\\u5bfe\", \"\\u3084\\u3084\\u53cd\\u5bfe\", \"\\u3069\\u3061\\u3089\\u3067\\u3082\\u306a\\u3044\", \"\\u3084\\u3084\\u8cdb\\u6210\", \"\\u8cdb\\u6210\"], \"scheme\": \"redblue\"}}, \"x\": {\"type\": \"quantitative\", \"axis\": {\"format\": \"%\", \"title\": \"Percentage\"}, \"field\": \"x\"}, \"y\": {\"type\": \"ordinal\", \"axis\": null, \"field\": \"attr\"}}, \"width\": 60}], \"$schema\": \"https://vega.github.io/schema/vega-lite/v4.8.1.json\", \"datasets\": {\"data-387efe684d88dc5da36c8c7a839493c2\": [{\"attr\": 4, \"value\": 5, \"x\": 0.24, \"x2\": 0.0, \"value_label\": \"\\u8cdb\\u6210\"}, {\"attr\": 4, \"value\": 4, \"x\": 0.36, \"x2\": 0.24, \"value_label\": \"\\u3084\\u3084\\u8cdb\\u6210\"}, {\"attr\": 3, \"value\": 5, \"x\": 0.3893805309734513, \"x2\": 0.0, \"value_label\": \"\\u8cdb\\u6210\"}, {\"attr\": 3, \"value\": 4, \"x\": 0.5221238938053098, \"x2\": 0.3893805309734513, \"value_label\": \"\\u3084\\u3084\\u8cdb\\u6210\"}, {\"attr\": 2, \"value\": 5, \"x\": 0.2875816993464052, \"x2\": 0.0, \"value_label\": \"\\u8cdb\\u6210\"}, {\"attr\": 2, \"value\": 4, \"x\": 0.43790849673202614, \"x2\": 0.2875816993464052, \"value_label\": \"\\u3084\\u3084\\u8cdb\\u6210\"}, {\"attr\": 1, \"value\": 5, \"x\": 0.2953020134228188, \"x2\": 0.0, \"value_label\": \"\\u8cdb\\u6210\"}, {\"attr\": 1, \"value\": 4, \"x\": 0.4429530201342282, \"x2\": 0.2953020134228188, \"value_label\": \"\\u3084\\u3084\\u8cdb\\u6210\"}, {\"attr\": 0, \"value\": 5, \"x\": 0.24691358024691357, \"x2\": 0.0, \"value_label\": \"\\u8cdb\\u6210\"}, {\"attr\": 0, \"value\": 4, \"x\": 0.38888888888888884, \"x2\": 0.24691358024691357, \"value_label\": \"\\u3084\\u3084\\u8cdb\\u6210\"}, {\"attr\": 0, \"value\": 1, \"x\": -0.3395061728395062, \"x2\": -0.0, \"value_label\": \"\\u53cd\\u5bfe\"}, {\"attr\": 0, \"value\": 2, \"x\": -0.5, \"x2\": -0.3395061728395062, \"value_label\": \"\\u3084\\u3084\\u53cd\\u5bfe\"}, {\"attr\": 1, \"value\": 1, \"x\": -0.2953020134228188, \"x2\": -0.0, \"value_label\": \"\\u53cd\\u5bfe\"}, {\"attr\": 1, \"value\": 2, \"x\": -0.43624161073825507, \"x2\": -0.2953020134228188, \"value_label\": \"\\u3084\\u3084\\u53cd\\u5bfe\"}, {\"attr\": 2, \"value\": 1, \"x\": -0.22875816993464052, \"x2\": -0.0, \"value_label\": \"\\u53cd\\u5bfe\"}, {\"attr\": 2, \"value\": 2, \"x\": -0.40522875816993464, \"x2\": -0.22875816993464052, \"value_label\": \"\\u3084\\u3084\\u53cd\\u5bfe\"}, {\"attr\": 3, \"value\": 1, \"x\": -0.22123893805309736, \"x2\": -0.0, \"value_label\": \"\\u53cd\\u5bfe\"}, {\"attr\": 3, \"value\": 2, \"x\": -0.3274336283185841, \"x2\": -0.22123893805309736, \"value_label\": \"\\u3084\\u3084\\u53cd\\u5bfe\"}, {\"attr\": 4, \"value\": 1, \"x\": -0.32, \"x2\": -0.0, \"value_label\": \"\\u53cd\\u5bfe\"}, {\"attr\": 4, \"value\": 2, \"x\": -0.48, \"x2\": -0.32, \"value_label\": \"\\u3084\\u3084\\u53cd\\u5bfe\"}], \"data-7d98ef067e9b9a421d4941ffe2f7cd18\": [{\"attr\": 0, \"value\": 3, \"x\": 0.1111111111111111, \"x2\": 0.0, \"value_label\": \"\\u3069\\u3061\\u3089\\u3067\\u3082\\u306a\\u3044\"}, {\"attr\": 1, \"value\": 3, \"x\": 0.12080536912751678, \"x2\": 0.0, \"value_label\": \"\\u3069\\u3061\\u3089\\u3067\\u3082\\u306a\\u3044\"}, {\"attr\": 2, \"value\": 3, \"x\": 0.1568627450980392, \"x2\": 0.0, \"value_label\": \"\\u3069\\u3061\\u3089\\u3067\\u3082\\u306a\\u3044\"}, {\"attr\": 3, \"value\": 3, \"x\": 0.1504424778761062, \"x2\": 0.0, \"value_label\": \"\\u3069\\u3061\\u3089\\u3067\\u3082\\u306a\\u3044\"}, {\"attr\": 4, \"value\": 3, \"x\": 0.16, \"x2\": 0.0, \"value_label\": \"\\u3069\\u3061\\u3089\\u3067\\u3082\\u306a\\u3044\"}]}}, {\"mode\": \"vega-lite\"});\n",
       "</script>"
      ],
      "text/plain": [
       "alt.HConcatChart(...)"
      ]
     },
     "execution_count": 11,
     "metadata": {},
     "output_type": "execute_result"
    }
   ],
   "source": [
    "x = alt.X(\n",
    "    'x',\n",
    "    axis = alt.Axis(\n",
    "        title = 'Percentage',\n",
    "        format = '%',\n",
    "    )\n",
    ")\n",
    "\n",
    "color = alt.Color(\n",
    "    'value_label',\n",
    "    scale=alt.Scale(\n",
    "        domain=choices,\n",
    "        scheme='redblue',\n",
    "    )\n",
    ")\n",
    "\n",
    "pn_chart = alt.Chart(\n",
    "    alt_data,\n",
    "    width=420\n",
    ").mark_bar().encode(\n",
    "    x = x,\n",
    "    x2 = 'x2',\n",
    "    y = 'attr:O',\n",
    "    color = color,\n",
    ")\n",
    "\n",
    "mid_chart = alt.Chart(\n",
    "    mid_i,\n",
    "    width=60\n",
    ").mark_bar().encode(\n",
    "    x = x,\n",
    "    y = alt.Y(\n",
    "        'attr:O',\n",
    "        axis=None,\n",
    "    ),\n",
    "    color = color,\n",
    ")\n",
    "\n",
    "(pn_chart | mid_chart).configure_concat(spacing=0)"
   ]
  },
  {
   "cell_type": "markdown",
   "id": "aee34b95-0644-40b4-a1c0-e5e4ea9ff78d",
   "metadata": {
    "tags": []
   },
   "source": [
    "## 参考. 100%積み上げ棒グラフ"
   ]
  },
  {
   "cell_type": "code",
   "execution_count": 12,
   "id": "d932cf72-b356-4815-8c5a-6037187acd86",
   "metadata": {},
   "outputs": [
    {
     "data": {
      "text/html": [
       "\n",
       "<div id=\"altair-viz-48bdcf12bcc94b99a166409c929abe11\"></div>\n",
       "<script type=\"text/javascript\">\n",
       "  (function(spec, embedOpt){\n",
       "    let outputDiv = document.currentScript.previousElementSibling;\n",
       "    if (outputDiv.id !== \"altair-viz-48bdcf12bcc94b99a166409c929abe11\") {\n",
       "      outputDiv = document.getElementById(\"altair-viz-48bdcf12bcc94b99a166409c929abe11\");\n",
       "    }\n",
       "    const paths = {\n",
       "      \"vega\": \"https://cdn.jsdelivr.net/npm//vega@5?noext\",\n",
       "      \"vega-lib\": \"https://cdn.jsdelivr.net/npm//vega-lib?noext\",\n",
       "      \"vega-lite\": \"https://cdn.jsdelivr.net/npm//vega-lite@4.8.1?noext\",\n",
       "      \"vega-embed\": \"https://cdn.jsdelivr.net/npm//vega-embed@6?noext\",\n",
       "    };\n",
       "\n",
       "    function loadScript(lib) {\n",
       "      return new Promise(function(resolve, reject) {\n",
       "        var s = document.createElement('script');\n",
       "        s.src = paths[lib];\n",
       "        s.async = true;\n",
       "        s.onload = () => resolve(paths[lib]);\n",
       "        s.onerror = () => reject(`Error loading script: ${paths[lib]}`);\n",
       "        document.getElementsByTagName(\"head\")[0].appendChild(s);\n",
       "      });\n",
       "    }\n",
       "\n",
       "    function showError(err) {\n",
       "      outputDiv.innerHTML = `<div class=\"error\" style=\"color:red;\">${err}</div>`;\n",
       "      throw err;\n",
       "    }\n",
       "\n",
       "    function displayChart(vegaEmbed) {\n",
       "      vegaEmbed(outputDiv, spec, embedOpt)\n",
       "        .catch(err => showError(`Javascript Error: ${err.message}<br>This usually means there's a typo in your chart specification. See the javascript console for the full traceback.`));\n",
       "    }\n",
       "\n",
       "    if(typeof define === \"function\" && define.amd) {\n",
       "      requirejs.config({paths});\n",
       "      require([\"vega-embed\"], displayChart, err => showError(`Error loading script: ${err.message}`));\n",
       "    } else if (typeof vegaEmbed === \"function\") {\n",
       "      displayChart(vegaEmbed);\n",
       "    } else {\n",
       "      loadScript(\"vega\")\n",
       "        .then(() => loadScript(\"vega-lite\"))\n",
       "        .then(() => loadScript(\"vega-embed\"))\n",
       "        .catch(showError)\n",
       "        .then(() => displayChart(vegaEmbed));\n",
       "    }\n",
       "  })({\"config\": {\"view\": {\"continuousWidth\": 400, \"continuousHeight\": 300}}, \"data\": {\"name\": \"data-d4d06b9bde71ac8fae9deb0fb1828f74\"}, \"mark\": \"bar\", \"encoding\": {\"color\": {\"type\": \"nominal\", \"field\": \"value_text\", \"scale\": {\"domain\": [\"\\u53cd\\u5bfe\", \"\\u3084\\u3084\\u53cd\\u5bfe\", \"\\u3069\\u3061\\u3089\\u3067\\u3082\\u306a\\u3044\", \"\\u3084\\u3084\\u8cdb\\u6210\", \"\\u8cdb\\u6210\"], \"scheme\": \"redblue\"}}, \"order\": {\"type\": \"quantitative\", \"field\": \"value\", \"sort\": \"ascending\"}, \"x\": {\"type\": \"quantitative\", \"axis\": {\"format\": \"%\", \"title\": \"Percentage\"}, \"field\": \"x\"}, \"y\": {\"type\": \"ordinal\", \"field\": \"attr\"}}, \"$schema\": \"https://vega.github.io/schema/vega-lite/v4.8.1.json\", \"datasets\": {\"data-d4d06b9bde71ac8fae9deb0fb1828f74\": [{\"attr\": 0, \"value\": 1, \"x\": 0.3395061728395062, \"value_text\": \"\\u53cd\\u5bfe\"}, {\"attr\": 0, \"value\": 2, \"x\": 0.16049382716049382, \"value_text\": \"\\u3084\\u3084\\u53cd\\u5bfe\"}, {\"attr\": 0, \"value\": 3, \"x\": 0.1111111111111111, \"value_text\": \"\\u3069\\u3061\\u3089\\u3067\\u3082\\u306a\\u3044\"}, {\"attr\": 0, \"value\": 4, \"x\": 0.1419753086419753, \"value_text\": \"\\u3084\\u3084\\u8cdb\\u6210\"}, {\"attr\": 0, \"value\": 5, \"x\": 0.24691358024691357, \"value_text\": \"\\u8cdb\\u6210\"}, {\"attr\": 1, \"value\": 1, \"x\": 0.2953020134228188, \"value_text\": \"\\u53cd\\u5bfe\"}, {\"attr\": 1, \"value\": 2, \"x\": 0.14093959731543623, \"value_text\": \"\\u3084\\u3084\\u53cd\\u5bfe\"}, {\"attr\": 1, \"value\": 3, \"x\": 0.12080536912751678, \"value_text\": \"\\u3069\\u3061\\u3089\\u3067\\u3082\\u306a\\u3044\"}, {\"attr\": 1, \"value\": 4, \"x\": 0.1476510067114094, \"value_text\": \"\\u3084\\u3084\\u8cdb\\u6210\"}, {\"attr\": 1, \"value\": 5, \"x\": 0.2953020134228188, \"value_text\": \"\\u8cdb\\u6210\"}, {\"attr\": 2, \"value\": 1, \"x\": 0.22875816993464052, \"value_text\": \"\\u53cd\\u5bfe\"}, {\"attr\": 2, \"value\": 2, \"x\": 0.17647058823529413, \"value_text\": \"\\u3084\\u3084\\u53cd\\u5bfe\"}, {\"attr\": 2, \"value\": 3, \"x\": 0.1568627450980392, \"value_text\": \"\\u3069\\u3061\\u3089\\u3067\\u3082\\u306a\\u3044\"}, {\"attr\": 2, \"value\": 4, \"x\": 0.1503267973856209, \"value_text\": \"\\u3084\\u3084\\u8cdb\\u6210\"}, {\"attr\": 2, \"value\": 5, \"x\": 0.2875816993464052, \"value_text\": \"\\u8cdb\\u6210\"}, {\"attr\": 3, \"value\": 1, \"x\": 0.22123893805309736, \"value_text\": \"\\u53cd\\u5bfe\"}, {\"attr\": 3, \"value\": 2, \"x\": 0.10619469026548672, \"value_text\": \"\\u3084\\u3084\\u53cd\\u5bfe\"}, {\"attr\": 3, \"value\": 3, \"x\": 0.1504424778761062, \"value_text\": \"\\u3069\\u3061\\u3089\\u3067\\u3082\\u306a\\u3044\"}, {\"attr\": 3, \"value\": 4, \"x\": 0.13274336283185842, \"value_text\": \"\\u3084\\u3084\\u8cdb\\u6210\"}, {\"attr\": 3, \"value\": 5, \"x\": 0.3893805309734513, \"value_text\": \"\\u8cdb\\u6210\"}, {\"attr\": 4, \"value\": 1, \"x\": 0.32, \"value_text\": \"\\u53cd\\u5bfe\"}, {\"attr\": 4, \"value\": 2, \"x\": 0.16, \"value_text\": \"\\u3084\\u3084\\u53cd\\u5bfe\"}, {\"attr\": 4, \"value\": 3, \"x\": 0.16, \"value_text\": \"\\u3069\\u3061\\u3089\\u3067\\u3082\\u306a\\u3044\"}, {\"attr\": 4, \"value\": 4, \"x\": 0.12, \"value_text\": \"\\u3084\\u3084\\u8cdb\\u6210\"}, {\"attr\": 4, \"value\": 5, \"x\": 0.24, \"value_text\": \"\\u8cdb\\u6210\"}]}}, {\"mode\": \"vega-lite\"});\n",
       "</script>"
      ],
      "text/plain": [
       "alt.Chart(...)"
      ]
     },
     "execution_count": 12,
     "metadata": {},
     "output_type": "execute_result"
    }
   ],
   "source": [
    "alt_data = data.copy()\n",
    "alt_data['value_text'] = alt_data['value'].apply(lambda x : choices[x-1])\n",
    "\n",
    "alt.Chart(alt_data).mark_bar().encode(\n",
    "    x = alt.X(\n",
    "        'x',\n",
    "        axis = alt.Axis(\n",
    "            title = 'Percentage',\n",
    "            format = '%',\n",
    "        )\n",
    "    ),\n",
    "    y = 'attr:O',\n",
    "    color = alt.Color(\n",
    "        'value_text',\n",
    "        scale=alt.Scale(\n",
    "            domain=choices,\n",
    "            scheme='redblue',\n",
    "        )\n",
    "    ),\n",
    "    order=alt.Order(\n",
    "        'value',\n",
    "        sort='ascending'\n",
    "    )\n",
    ")"
   ]
  }
 ],
 "metadata": {
  "kernelspec": {
   "display_name": "Python 3 (ipykernel)",
   "language": "python",
   "name": "python3"
  },
  "language_info": {
   "codemirror_mode": {
    "name": "ipython",
    "version": 3
   },
   "file_extension": ".py",
   "mimetype": "text/x-python",
   "name": "python",
   "nbconvert_exporter": "python",
   "pygments_lexer": "ipython3",
   "version": "3.8.10"
  }
 },
 "nbformat": 4,
 "nbformat_minor": 5
}
